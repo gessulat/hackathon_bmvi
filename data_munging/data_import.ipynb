{
 "cells": [
  {
   "cell_type": "code",
   "execution_count": 2,
   "metadata": {
    "collapsed": false
   },
   "outputs": [],
   "source": [
    "import pandas as pd\n",
    "\n",
    "df = pd.read_csv('../data/2014_BAB_S.txt')"
   ]
  },
  {
   "cell_type": "code",
   "execution_count": 3,
   "metadata": {
    "collapsed": false
   },
   "outputs": [
    {
     "data": {
      "text/html": [
       "<div>\n",
       "<table border=\"1\" class=\"dataframe\">\n",
       "  <thead>\n",
       "    <tr style=\"text-align: right;\">\n",
       "      <th></th>\n",
       "      <th>TKNR;Zst;Land;Strklas;Strnum;Datum;Wotag;Fahrtzw;Stunde;KFZ_R1;K_KFZ_R1;KFZ_R2;K_KFZ_R2;Lkw_R1;K_Lkw_R1;Lkw_R2;K_Lkw_R2;PLZ_R1;K_PLZ_R1;Pkw_R1;K_Pkw_R1;Lfw_R1;K_Lfw_R1;Mot_R1;K_Mot_R1;PmA_R1;K_PmA_R1;Bus_R1;K_Bus_R1;LoA_R1;K_LoA_R1;Lzg_R1;K_Lzg_R1;Sat_R1;K_Sat_R1;Son_R1;K_Son_R1;PLZ_R2;K_PLZ_R2;Pkw_R2;K_Pkw_R2;Lfw_R2;K_Lfw_R2;Mot_R2;K_Mot_R2;PmA_R2;K_PmA_R2;Bus_R2;K_Bus_R2;LoA_R2;K_LoA_R2;Lzg_R2;K_Lzg_R2;Sat_R2;K_Sat_R2;Son_R2;K_Son_R2</th>\n",
       "    </tr>\n",
       "  </thead>\n",
       "  <tbody>\n",
       "    <tr>\n",
       "      <th>0</th>\n",
       "      <td>5329;4382;16;A;  73;140101; 3;s;01;   13;s;   ...</td>\n",
       "    </tr>\n",
       "    <tr>\n",
       "      <th>1</th>\n",
       "      <td>5329;4382;16;A;  73;140101; 3;s;02;   20;s;   ...</td>\n",
       "    </tr>\n",
       "    <tr>\n",
       "      <th>2</th>\n",
       "      <td>5329;4382;16;A;  73;140101; 3;s;03;   21;s;   ...</td>\n",
       "    </tr>\n",
       "    <tr>\n",
       "      <th>3</th>\n",
       "      <td>5329;4382;16;A;  73;140101; 3;s;04;   11;s;   ...</td>\n",
       "    </tr>\n",
       "    <tr>\n",
       "      <th>4</th>\n",
       "      <td>5329;4382;16;A;  73;140101; 3;s;05;   20;s;   ...</td>\n",
       "    </tr>\n",
       "    <tr>\n",
       "      <th>5</th>\n",
       "      <td>5329;4382;16;A;  73;140101; 3;s;06;   15;s;   ...</td>\n",
       "    </tr>\n",
       "    <tr>\n",
       "      <th>6</th>\n",
       "      <td>5329;4382;16;A;  73;140101; 3;s;07;   23;s;   ...</td>\n",
       "    </tr>\n",
       "    <tr>\n",
       "      <th>7</th>\n",
       "      <td>5329;4382;16;A;  73;140101; 3;s;08;   18;s;   ...</td>\n",
       "    </tr>\n",
       "    <tr>\n",
       "      <th>8</th>\n",
       "      <td>5329;4382;16;A;  73;140101; 3;s;09;   21;s;   ...</td>\n",
       "    </tr>\n",
       "    <tr>\n",
       "      <th>9</th>\n",
       "      <td>5329;4382;16;A;  73;140101; 3;s;10;   36;s;   ...</td>\n",
       "    </tr>\n",
       "  </tbody>\n",
       "</table>\n",
       "</div>"
      ],
      "text/plain": [
       "  TKNR;Zst;Land;Strklas;Strnum;Datum;Wotag;Fahrtzw;Stunde;KFZ_R1;K_KFZ_R1;KFZ_R2;K_KFZ_R2;Lkw_R1;K_Lkw_R1;Lkw_R2;K_Lkw_R2;PLZ_R1;K_PLZ_R1;Pkw_R1;K_Pkw_R1;Lfw_R1;K_Lfw_R1;Mot_R1;K_Mot_R1;PmA_R1;K_PmA_R1;Bus_R1;K_Bus_R1;LoA_R1;K_LoA_R1;Lzg_R1;K_Lzg_R1;Sat_R1;K_Sat_R1;Son_R1;K_Son_R1;PLZ_R2;K_PLZ_R2;Pkw_R2;K_Pkw_R2;Lfw_R2;K_Lfw_R2;Mot_R2;K_Mot_R2;PmA_R2;K_PmA_R2;Bus_R2;K_Bus_R2;LoA_R2;K_LoA_R2;Lzg_R2;K_Lzg_R2;Sat_R2;K_Sat_R2;Son_R2;K_Son_R2\n",
       "0  5329;4382;16;A;  73;140101; 3;s;01;   13;s;   ...                                                                                                                                                                                                                                                                                                                                                                                                     \n",
       "1  5329;4382;16;A;  73;140101; 3;s;02;   20;s;   ...                                                                                                                                                                                                                                                                                                                                                                                                     \n",
       "2  5329;4382;16;A;  73;140101; 3;s;03;   21;s;   ...                                                                                                                                                                                                                                                                                                                                                                                                     \n",
       "3  5329;4382;16;A;  73;140101; 3;s;04;   11;s;   ...                                                                                                                                                                                                                                                                                                                                                                                                     \n",
       "4  5329;4382;16;A;  73;140101; 3;s;05;   20;s;   ...                                                                                                                                                                                                                                                                                                                                                                                                     \n",
       "5  5329;4382;16;A;  73;140101; 3;s;06;   15;s;   ...                                                                                                                                                                                                                                                                                                                                                                                                     \n",
       "6  5329;4382;16;A;  73;140101; 3;s;07;   23;s;   ...                                                                                                                                                                                                                                                                                                                                                                                                     \n",
       "7  5329;4382;16;A;  73;140101; 3;s;08;   18;s;   ...                                                                                                                                                                                                                                                                                                                                                                                                     \n",
       "8  5329;4382;16;A;  73;140101; 3;s;09;   21;s;   ...                                                                                                                                                                                                                                                                                                                                                                                                     \n",
       "9  5329;4382;16;A;  73;140101; 3;s;10;   36;s;   ...                                                                                                                                                                                                                                                                                                                                                                                                     "
      ]
     },
     "execution_count": 3,
     "metadata": {},
     "output_type": "execute_result"
    }
   ],
   "source": [
    "df[:10]"
   ]
  },
  {
   "cell_type": "code",
   "execution_count": null,
   "metadata": {
    "collapsed": true
   },
   "outputs": [],
   "source": []
  }
 ],
 "metadata": {
  "kernelspec": {
   "display_name": "Python 2",
   "language": "python",
   "name": "python2"
  },
  "language_info": {
   "codemirror_mode": {
    "name": "ipython",
    "version": 2
   },
   "file_extension": ".py",
   "mimetype": "text/x-python",
   "name": "python",
   "nbconvert_exporter": "python",
   "pygments_lexer": "ipython2",
   "version": "2.7.10"
  }
 },
 "nbformat": 4,
 "nbformat_minor": 0
}
