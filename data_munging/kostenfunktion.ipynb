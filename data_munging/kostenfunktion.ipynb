{
 "cells": [
  {
   "cell_type": "code",
   "execution_count": 45,
   "metadata": {
    "collapsed": false
   },
   "outputs": [],
   "source": [
    "def f( km, regen, nutzung, weights=(0.03, .25, 0.07)):\n",
    "    basis, nutzungs_factor, regen_factor = weights\n",
    "    if regen:\n",
    "        return (basis + nutzungs_factor*nutzung + regen_factor*1) * km\n",
    "    else: \n",
    "        return (basis + nutzungs_factor*nutzung ) * km\n",
    "\n"
   ]
  },
  {
   "cell_type": "code",
   "execution_count": 46,
   "metadata": {
    "collapsed": false
   },
   "outputs": [
    {
     "name": "stdout",
     "output_type": "stream",
     "text": [
      "km, regen, kein_regen\n",
      "100 22.5 15.5\n",
      "120 27.0 18.6\n",
      "140 31.5 21.7\n",
      "160 36.0 24.8\n",
      "180 40.5 27.9\n",
      "\n",
      "unterschiedliche nutzung\n",
      "km, wenig, viel, wenig regen, viel regen\n",
      "100 10.5 15.5 17.5 22.5\n",
      "120 12.6 18.6 21.0 27.0\n",
      "140 14.7 21.7 24.5 31.5\n",
      "160 16.8 24.8 28.0 36.0\n",
      "180 18.9 27.9 31.5 40.5\n",
      "39.99\n",
      "53.345\n"
     ]
    }
   ],
   "source": [
    "print \"km, regen, kein_regen\"\n",
    "for i in range(5):\n",
    "    km = 100+20*i\n",
    "    print km,  f(km, True, .5 ), f(km, False, .5 )\n",
    "    \n",
    "    \n",
    "print\n",
    "print \"unterschiedliche nutzung\"\n",
    "\n",
    "print \"km, wenig, viel, wenig regen, viel regen\"\n",
    "for i in range(5):\n",
    "    km = 100+20*i\n",
    "    print km,  f(km, False, .3 ), f(km, False, .5 ), f(km, True, .3 ), f(km, True, .5 )\n",
    "    \n",
    "    \n",
    "print f( 258, False, 0.5)\n",
    "print f( 227, True, 0.54)\n"
   ]
  },
  {
   "cell_type": "code",
   "execution_count": null,
   "metadata": {
    "collapsed": true
   },
   "outputs": [],
   "source": []
  }
 ],
 "metadata": {
  "kernelspec": {
   "display_name": "Python 2",
   "language": "python",
   "name": "python2"
  },
  "language_info": {
   "codemirror_mode": {
    "name": "ipython",
    "version": 2
   },
   "file_extension": ".py",
   "mimetype": "text/x-python",
   "name": "python",
   "nbconvert_exporter": "python",
   "pygments_lexer": "ipython2",
   "version": "2.7.10"
  }
 },
 "nbformat": 4,
 "nbformat_minor": 0
}
