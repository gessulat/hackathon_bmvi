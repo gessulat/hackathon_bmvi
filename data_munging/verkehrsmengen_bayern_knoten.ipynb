{
 "cells": [
  {
   "cell_type": "code",
   "execution_count": 1,
   "metadata": {
    "collapsed": true
   },
   "outputs": [],
   "source": [
    "import pandas as pd\n",
    "\n",
    "%matplotlib inline\n",
    "import matplotlib.pyplot as plt\n",
    "\n",
    "\n",
    "pd.set_option('display.mpl_style', 'default') # Make the graphs a bit prettier\n",
    "plt.rcParams['figure.figsize'] = (15, 5)"
   ]
  },
  {
   "cell_type": "code",
   "execution_count": 2,
   "metadata": {
    "collapsed": true
   },
   "outputs": [],
   "source": [
    "raw_data = pd.read_csv('../data/2014_BAB_S.txt', sep=\";\")"
   ]
  },
  {
   "cell_type": "code",
   "execution_count": 14,
   "metadata": {
    "collapsed": true
   },
   "outputs": [],
   "source": [
    "data = raw_data\n",
    "data[['Strklas', 'Strnum', 'Zst']] = data[['Strklas', 'Strnum', 'Zst']].astype(str)\n",
    "data[\"Str\"] = data['Strklas']+data['Strnum']"
   ]
  },
  {
   "cell_type": "code",
   "execution_count": 5,
   "metadata": {
    "collapsed": false
   },
   "outputs": [],
   "source": [
    "def get_data_slice( data=data,\n",
    "                    zst_set=False, \n",
    "                    mask=False, \n",
    "                    date=False):\n",
    "    \n",
    "    # check if one or more zsts are given\n",
    "    if zst_set: \n",
    "        if type(zst_set) is int:\n",
    "            zst_set = set([zst_set])\n",
    "        data = data[data[\"Zst\"].isin(zst_set)]\n",
    "\n",
    "    # check if one or more dates are given\n",
    "    if date: \n",
    "        if type(date) is int:\n",
    "            data = data[data[\"Datum\"]==date]\n",
    "        else:\n",
    "            data = data[data[\"Datum\"].isin(date)]\n",
    "    \n",
    "    # check if you a mask for columns is given\n",
    "    if mask:\n",
    "        return data[mask]\n",
    "    else:\n",
    "        return data\n",
    "    \n",
    "def get_hourly_normalized_lkw_numbers(date, hour, zst, direction=False):\n",
    "    df = get_data_slice(date=date)\n",
    "    df = df[df[\"Stunde\"] == hour]\n",
    "    d = df.set_index(\"Zst\")\n",
    "    \n",
    "    # sum\n",
    "    if not direction:\n",
    "        d[\"result\"] = d[[\"Lkw_R1\", \"Lkw_R2\"]].sum(axis=1)\n",
    "    else:\n",
    "        d[\"result\"] = d.loc[:, [\"Lkw_\"+direction]]\n",
    "        \n",
    "    r = d[\"result\"]\n",
    "    r_max = r.max()\n",
    "    r_min = r.min()\n",
    "\n",
    "    #normalize\n",
    "    n = (r-r_min)/(r_max-r_min)\n",
    "    return n[zst]\n",
    "\n",
    "\n",
    "# usage: date, hour, zst, [direction]\n",
    "print get_hourly_normalized_lkw_numbers( 140315, 2, \"9008\" ) # aggregation\n",
    "print get_hourly_normalized_lkw_numbers( 140315, 2, \"9008\", \"R1\")\n",
    "print get_hourly_normalized_lkw_numbers( 140315, 2, \"9008\", \"R2\")\n"
   ]
  },
  {
   "cell_type": "code",
   "execution_count": 154,
   "metadata": {
    "collapsed": false
   },
   "outputs": [
    {
     "name": "stdout",
     "output_type": "stream",
     "text": [
      "zst_json = {\n",
      "    \"7: Ulm - Allgäu\": \"9016\"\n",
      "    \"93: Hochfranken - Oberpfälzer Wald\": \"9099\"\n",
      "    \"6: Nürnberg Ost - Altdorf\": \"9018\"\n",
      "    \"6: Feuchtwangen - Nürnberg Süd\": \"9525\"\n",
      "    \"8: BW - Eschenried\": \"9965\"\n",
      "    \"3: Altdorf - Regensburg\": \"9060\"\n",
      "    \"7: Biebelried - Feuchtwangen\": \"9534\"\n",
      "    \"93: Oberpfälzer Wald - Regensburg\": \"9902\"\n",
      "    \"7: Schweinfurt - Biebelried\": \"9020\"\n",
      "    \"7: HE - Schweinfurt\": \"9152\"\n",
      "    \"95: Starnberg - Eschenlohe\": \"9161\"\n",
      "    \"3: Nürnberg - Altdorf\": \"9081\"\n",
      "    \"73: Fürth - Nürnberg\": \"9111\"\n",
      "    \"94: München-Ost - Pastetten\": \"9213\"\n",
      "    \"8: Inntal - AT\": \"9028\"\n",
      "    \"73: Nürnberg-Hafen - Nürnberg-Süd\": \"9004\"\n",
      "    \"72: SN - Vogtland\": \"9094\"\n",
      "    \"3: Biebelried - Fürth\": \"9041\"\n",
      "    \"73: TH - Bamberg\": \"9306\"\n",
      "    \"71: TH - Werntal\": \"9167\"\n",
      "    \"9: Vogtland - Bayreuth\": \"9620\"\n",
      "    \"9: Bayreuth - Nürnberg\": \"9536\"\n",
      "    \"3: Fürth - Nürnberg\": \"9520\"\n",
      "    \"Holledau - Neufarn\": \"9058\"\n",
      "    \"92: Deggendorf - Neufahrn\": \"9017\"\n",
      "    \"94: Heldenstein - Burghausen\": \"9984\"\n",
      "    \"93: Regensburg - Holledau\": \"9030\"\n",
      "    \"3: Seligenstädt - Würzburg-West\": \"9510\"\n",
      "    \"9: Nürnberg - Nürnberg-Ost\": \"9040\"\n",
      "    \"70: Bayreuth - Bamberg\": \"9068\"\n",
      "    \"8: München-Süd - Inntal\": \"9171\"\n",
      "    \"3: Deggendorf - AT\": \"9628\"\n",
      "    \"9: Nürnberg Ost - Nürnberg Feucht\": \"9754\"\n",
      "    \"6: Oberpfälzer Wald - CZ\": \"9008\"\n",
      "    \"93: Inntal - AT\": \"9629\"\n",
      "    \"70: Werntal - Schweinfurt\": \"9203\"\n",
      "    \"70: Bamberg - Werntal\": \"9545\"\n",
      "    \"73: Bamberg - Fürth\": \"9585\"\n",
      "    \"9: SN - Vogtland\": \"9903\"\n",
      "    \"96: München-Süd-West - Memmingen\": \"9136\"\n",
      "    \"7: Feuchtwangen - BW\": \"9568\"\n",
      "    \"9: Nürnberg Feucht - Holledau\": \"9539\"\n",
      "    \"3: Regensburg - Deggendorf\": \"9077\"\n",
      "};\n"
     ]
    }
   ],
   "source": [
    "zsts_dict = {\n",
    "    \"71: TH - Werntal\": \"9167\",\n",
    "    \"7: HE - Schweinfurt\": \"9152\",\n",
    "    \"70: Werntal - Schweinfurt\": \"9203\",\n",
    "    \"7: Schweinfurt - Biebelried\": \"9020\",\n",
    "    \"3: Seligenstädt - Würzburg-West\": \"9510\",\n",
    "    \"7: Biebelried - Feuchtwangen\": \"9534\",\n",
    "    \"7: Feuchtwangen - BW\": \"9568\",\n",
    "    \"6: Feuchtwangen - Nürnberg Süd\": \"9525\",\n",
    "    \"3: Biebelried - Fürth\": \"9041\",\n",
    "    \"70: Bamberg - Werntal\": \"9545\",\n",
    "    \"73: TH - Bamberg\": \"9306\",\n",
    "    \"73: Bamberg - Fürth\": \"9585\",\n",
    "    \"70: Bayreuth - Bamberg\": \"9068\",\n",
    "    \"9: SN - Vogtland\": \"9903\",\n",
    "    \"72: SN - Vogtland\": \"9094\",\n",
    "    \"9: Vogtland - Bayreuth\": \"9620\",\n",
    "    \"93: Hochfranken - Oberpfälzer Wald\": \"9099\",\n",
    "    \"9: Bayreuth - Nürnberg\": \"9536\",\n",
    "    \"6: Oberpfälzer Wald - CZ\": \"9008\",\n",
    "    \"6: Nürnberg Ost - Altdorf\": \"9018\",\n",
    "    \"73: Fürth - Nürnberg\": \"9111\",\n",
    "    \"3: Fürth - Nürnberg\": \"9520\",\n",
    "    \"3: Altdorf - Regensburg\": \"9060\",\n",
    "    \"9: Nürnberg - Nürnberg-Ost\": \"9040\",\n",
    "    \"9: Nürnberg Ost - Nürnberg Feucht\": \"9754\",\n",
    "    \"73: Nürnberg-Hafen - Nürnberg-Süd\": \"9004\",\n",
    "    \"9: Nürnberg Feucht - Holledau\": \"9539\",\n",
    "    \"3: Nürnberg - Altdorf\": \"9081\",\n",
    "    \"93: Oberpfälzer Wald - Regensburg\": \"9902\",\n",
    "    \"93: Regensburg - Holledau\": \"9030\",\n",
    "    \"3: Regensburg - Deggendorf\": \"9077\",\n",
    "    \"92: Deggendorf - Neufahrn\": \"9017\",\n",
    "    \"Holledau - Neufarn\": \"9058\",\n",
    "    \"3: Deggendorf - AT\": \"9628\",\n",
    "    \"94: Heldenstein - Burghausen\": \"9984\",\n",
    "    \"8: Inntal - AT\": \"9028\",\n",
    "    \"8: München-Süd - Inntal\": \"9171\",\n",
    "    \"93: Inntal - AT\": \"9629\",\n",
    "    \"95: Starnberg - Eschenlohe\": \"9161\",\n",
    "    \"96: München-Süd-West - Memmingen\": \"9136\",\n",
    "    \"8: BW - Eschenried\": \"9965\",\n",
    "    \"7: Ulm - Allgäu\": \"9016\",\n",
    "    \"94: München-Ost - Pastetten\": \"9213\"\n",
    "}\n",
    "\n",
    "print \"zst_json = {\"\n",
    "for zst in zsts_dict.keys():\n",
    "    print '    \"'+zst+'\": \"'+zsts_dict[zst]+'\"'\n",
    "print \"};\""
   ]
  },
  {
   "cell_type": "code",
   "execution_count": 155,
   "metadata": {
    "collapsed": false
   },
   "outputs": [
    {
     "name": "stdout",
     "output_type": "stream",
     "text": [
      "zst_usage ={\n",
      "     \"7: Ulm - Allgäu\": \"0.0523627075351\"\n",
      "     \"93: Hochfranken - Oberpfälzer Wald\": \"0.0996168582375\"\n",
      "     \"6: Nürnberg Ost - Altdorf\": \"0.275862068966\"\n",
      "     \"6: Feuchtwangen - Nürnberg Süd\": \"0.577266922095\"\n",
      "     \"8: BW - Eschenried\": \"0.297573435504\"\n",
      "     \"3: Altdorf - Regensburg\": \"0.546615581098\"\n",
      "     \"7: Biebelried - Feuchtwangen\": \"0.0893997445722\"\n",
      "     \"93: Oberpfälzer Wald - Regensburg\": \"0.136653895275\"\n",
      "     \"7: Schweinfurt - Biebelried\": \"0.183908045977\"\n",
      "     \"7: HE - Schweinfurt\": \"0.187739463602\"\n",
      "     \"95: Starnberg - Eschenlohe\": \"0.0395913154534\"\n",
      "     \"3: Nürnberg - Altdorf\": \"0.41251596424\"\n",
      "     \"73: Fürth - Nürnberg\": \"0.102171136654\"\n",
      "     \"94: München-Ost - Pastetten\": \"0.597701149425\"\n",
      "     \"8: Inntal - AT\": \"0.197956577267\"\n",
      "     \"73: Nürnberg-Hafen - Nürnberg-Süd\": \"0.126436781609\"\n",
      "     \"72: SN - Vogtland\": \"0.191570881226\"\n",
      "     \"3: Biebelried - Fürth\": \"0.610472541507\"\n",
      "     \"73: TH - Bamberg\": \"0.0651340996169\"\n",
      "     \"71: TH - Werntal\": \"0.0280970625798\"\n",
      "     \"9: Vogtland - Bayreuth\": \"0.515964240102\"\n",
      "     \"9: Bayreuth - Nürnberg\": \"0.365261813538\"\n",
      "     \"3: Fürth - Nürnberg\": \"0.575989782886\"\n",
      "     \"Holledau - Neufarn\": \"0.542784163474\"\n",
      "     \"92: Deggendorf - Neufahrn\": \"0.0945083014049\"\n",
      "     \"94: Heldenstein - Burghausen\": \"0.095785440613\"\n",
      "     \"93: Regensburg - Holledau\": \"0.0727969348659\"\n",
      "     \"3: Seligenstädt - Würzburg-West\": \"0.353767560664\"\n",
      "     \"9: Nürnberg - Nürnberg-Ost\": \"0.319284802043\"\n",
      "     \"70: Bayreuth - Bamberg\": \"0.0523627075351\"\n",
      "     \"8: München-Süd - Inntal\": \"0.58748403576\"\n",
      "     \"3: Deggendorf - AT\": \"0.489144316731\"\n",
      "     \"9: Nürnberg Ost - Nürnberg Feucht\": \"0.32183908046\"\n",
      "     \"6: Oberpfälzer Wald - CZ\": \"0.23754789272\"\n",
      "     \"93: Inntal - AT\": \"0.507024265645\"\n",
      "     \"70: Werntal - Schweinfurt\": \"0.117496807152\"\n",
      "     \"70: Bamberg - Werntal\": \"0.0855683269476\"\n",
      "     \"73: Bamberg - Fürth\": \"0.150702426564\"\n",
      "     \"9: SN - Vogtland\": \"0.319284802043\"\n",
      "     \"96: München-Süd-West - Memmingen\": \"0.137931034483\"\n",
      "     \"7: Feuchtwangen - BW\": \"0.13282247765\"\n",
      "     \"9: Nürnberg Feucht - Holledau\": \"0.37037037037\"\n",
      "     \"3: Regensburg - Deggendorf\": \"0.458492975734\"\n",
      "};\n"
     ]
    }
   ],
   "source": [
    "# usage for zsts at 2pm\n",
    "print \"zst_usage ={\"\n",
    "for route in zsts_dict.keys():\n",
    "    zst = zsts_dict[route]\n",
    "    usage_percent = get_hourly_normalized_lkw_numbers(140315, 14, zst)\n",
    "    print '     \"'+route+'\": \"'+str(usage_percent)+'\"'\n",
    "print \"};\""
   ]
  },
  {
   "cell_type": "code",
   "execution_count": 157,
   "metadata": {
    "collapsed": false
   },
   "outputs": [
    {
     "name": "stdout",
     "output_type": "stream",
     "text": [
      "kurz 0.546615581098\n",
      "lang 0.507024265645\n"
     ]
    }
   ],
   "source": [
    "kurz = \"9627\"\n",
    "lang = \"9629\"\n",
    "\n",
    "print \"kurz\", get_hourly_normalized_lkw_numbers(140315, 14, kurz)\n",
    "print \"lang\", get_hourly_normalized_lkw_numbers(140315, 14, lang)\n"
   ]
  },
  {
   "cell_type": "code",
   "execution_count": 159,
   "metadata": {
    "collapsed": false
   },
   "outputs": [
    {
     "name": "stdout",
     "output_type": "stream",
     "text": [
      "max 783\n",
      "min 0\n"
     ]
    }
   ],
   "source": [
    "df = get_data_slice(date=140315)\n",
    "df = df[df[\"Stunde\"] == 14]\n",
    "d = df.set_index(\"Zst\")\n",
    "\n",
    "direction =False\n",
    "# sum\n",
    "if not direction:\n",
    "    d[\"result\"] = d[[\"Lkw_R1\", \"Lkw_R2\"]].sum(axis=1)\n",
    "else:\n",
    "    d[\"result\"] = d.loc[:, [\"Lkw_\"+direction]]\n",
    "\n",
    "r = d[\"result\"]\n",
    "r_max = r.max()\n",
    "r_min = r.min()\n",
    "\n",
    "print 'max', r_max\n",
    "print 'min', r_min"
   ]
  },
  {
   "cell_type": "code",
   "execution_count": null,
   "metadata": {
    "collapsed": true
   },
   "outputs": [],
   "source": []
  }
 ],
 "metadata": {
  "kernelspec": {
   "display_name": "Python 2",
   "language": "python",
   "name": "python2"
  },
  "language_info": {
   "codemirror_mode": {
    "name": "ipython",
    "version": 2
   },
   "file_extension": ".py",
   "mimetype": "text/x-python",
   "name": "python",
   "nbconvert_exporter": "python",
   "pygments_lexer": "ipython2",
   "version": "2.7.10"
  }
 },
 "nbformat": 4,
 "nbformat_minor": 0
}
