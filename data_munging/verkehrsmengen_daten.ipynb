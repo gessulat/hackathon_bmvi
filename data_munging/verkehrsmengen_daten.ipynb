{
 "cells": [
  {
   "cell_type": "code",
   "execution_count": 59,
   "metadata": {
    "collapsed": false
   },
   "outputs": [],
   "source": [
    "import pandas as pd\n",
    "\n",
    "raw_data = pd.read_csv('../data/2014_BAB_S.txt', sep=\";\")"
   ]
  },
  {
   "cell_type": "code",
   "execution_count": 75,
   "metadata": {
    "collapsed": false
   },
   "outputs": [],
   "source": [
    "# constraint: date == 2014-02-21 engins birthday\n"
   ]
  },
  {
   "cell_type": "code",
   "execution_count": 76,
   "metadata": {
    "collapsed": false
   },
   "outputs": [],
   "source": [
    "# constraint: also achsendaten at Zst\n",
    "\n",
    "zst_verkehr = set(first_january[\"Zst\"].unique())\n",
    "zst_achsen = set([9628, 9627, 9625, 9629])\n",
    "zst_intersec = zst_verkehr & zst_achsen\n",
    "ebd_intersec = first_january[first_january[\"Zst\"].isin( zst_intersec)]\n",
    "\n"
   ]
  },
  {
   "cell_type": "code",
   "execution_count": 86,
   "metadata": {
    "collapsed": false
   },
   "outputs": [],
   "source": [
    "engins_birthday = 140221\n",
    "column_mask = [\"Zst\", \"Strklas\", \"Strnum\", \"Stunde\", \"Lkw_R1\", \"Lkw_R2\"]\n",
    "\n",
    "def get_data_slice( data,\n",
    "                    zst_set=zst_intersec, \n",
    "                    column_mask=column_mask, \n",
    "                    date=engins_birthday):\n",
    "    data_date = data[data[\"Datum\"]==engins_birthday]\n",
    "    data_date_zst = data_date[data_date[\"Zst\"].isin(zst_set)]\n",
    "    return data_date_zst[column_mask]\n",
    "             \n"
   ]
  },
  {
   "cell_type": "code",
   "execution_count": 90,
   "metadata": {
    "collapsed": false
   },
   "outputs": [],
   "source": [
    "# mask irrelevant columns\n",
    "\n",
    "\n",
    "ebd_9628 = get_data_slice( raw_data, zst_set=set([9628]))\n",
    "ebd_9627 = get_data_slice( raw_data, zst_set=set([9627]))\n",
    "ebd_9625 = get_data_slice( raw_data, zst_set=set([9625]))\n",
    "ebd_9629 = get_data_slice( raw_data, zst_set=set([9629]))\n",
    "\n",
    "\n",
    "\n",
    "\n",
    "\n"
   ]
  },
  {
   "cell_type": "code",
   "execution_count": null,
   "metadata": {
    "collapsed": true
   },
   "outputs": [],
   "source": []
  }
 ],
 "metadata": {
  "kernelspec": {
   "display_name": "Python 2",
   "language": "python",
   "name": "python2"
  },
  "language_info": {
   "codemirror_mode": {
    "name": "ipython",
    "version": 2
   },
   "file_extension": ".py",
   "mimetype": "text/x-python",
   "name": "python",
   "nbconvert_exporter": "python",
   "pygments_lexer": "ipython2",
   "version": "2.7.10"
  }
 },
 "nbformat": 4,
 "nbformat_minor": 0
}
